{
 "cells": [
  {
   "cell_type": "code",
   "execution_count": 4,
   "metadata": {},
   "outputs": [
    {
     "name": "stdout",
     "output_type": "stream",
     "text": [
      "   RM297  18  18-25  Yes      Travel_Rarely   230  Research & Development   3  \\\n",
      "0  RM302  18  18-25   No      Travel_Rarely   812                   Sales  10   \n",
      "1  RM458  18  18-25  Yes  Travel_Frequently  1306                   Sales   5   \n",
      "2  RM728  18  18-25   No         Non-Travel   287  Research & Development   5   \n",
      "3  RM829  18  18-25  Yes         Non-Travel   247  Research & Development   8   \n",
      "4  RM973  18  18-25   No         Non-Travel  1124  Research & Development   1   \n",
      "\n",
      "   3.1  Life Sciences  ...  3.6  80  0 0.1  2  3.7  0.2 0.3  0.4  0.5  \n",
      "0    3        Medical  ...    1  80  0   0  2    3    0   0    0  0.0  \n",
      "1    3      Marketing  ...    4  80  0   0  3    3    0   0    0  0.0  \n",
      "2    2  Life Sciences  ...    4  80  0   0  2    3    0   0    0  0.0  \n",
      "3    1        Medical  ...    4  80  0   0  0    3    0   0    0  0.0  \n",
      "4    3  Life Sciences  ...    3  80  0   0  5    4    0   0    0  0.0  \n",
      "\n",
      "[5 rows x 38 columns]\n"
     ]
    }
   ],
   "source": [
    "import psycopg2\n",
    "import pandas as pd\n",
    "\n",
    "\n",
    "conn = psycopg2.connect(\n",
    "    dbname=\"Romina\",\n",
    "    user=\"postgres\",\n",
    "    password=\"1234\",\n",
    "    host=\"localhost\",\n",
    "    port=\"5432\"\n",
    ")\n",
    "\n",
    "query = \"SELECT * FROM employee_data\"\n",
    "df = pd.read_sql(query, conn)\n",
    "\n",
    "\n",
    "conn.close()\n",
    "from IPython.display import display\n",
    "display(df)\n",
    "\n",
    "\"\"\"df = pd.read_csv(r\"C:\\Users\\Public\\HR_Analytics.csv\", delimiter=\",\")\n",
    "print(df.head())\"\"\""
   ]
  }
 ],
 "metadata": {
  "kernelspec": {
   "display_name": "Python 3.13.1 ('myenv': venv)",
   "language": "python",
   "name": "python3"
  },
  "language_info": {
   "codemirror_mode": {
    "name": "ipython",
    "version": 3
   },
   "file_extension": ".py",
   "mimetype": "text/x-python",
   "name": "python",
   "nbconvert_exporter": "python",
   "pygments_lexer": "ipython3",
   "version": "3.13.1"
  },
  "orig_nbformat": 4,
  "vscode": {
   "interpreter": {
    "hash": "6eabbf1308da65ffd8ed0240b519025518b430007eaf637816539ffc56f88644"
   }
  }
 },
 "nbformat": 4,
 "nbformat_minor": 2
}
